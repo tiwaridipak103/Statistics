{
 "cells": [
  {
   "cell_type": "markdown",
   "metadata": {},
   "source": [
    "# Cumulative Distribution Functions\n",
    "\n",
    "This notebook is for Chapter 3 (Cumulative Distribution Functions) of [Think Stats - Probability and Statistics for Programmers](http://greenteapress.com/thinkstats/) by Allen B Downey.\n",
    "\n",
    "Objective is to understand CDFs as an alternative representation of distributions with many members, relation between percentiles (and other rank based metrics such as median and IQR) and CDFs, using CDFs for resampling, etc."
   ]
  },
  {
   "cell_type": "code",
   "execution_count": 1,
   "metadata": {},
   "outputs": [],
   "source": [
    "import math\n",
    "import matplotlib.pyplot as plt\n",
    "import numpy as np\n",
    "import pandas as pd\n",
    "%matplotlib inline"
   ]
  },
  {
   "cell_type": "markdown",
   "metadata": {},
   "source": [
    "## Class Size Paradox\n",
    "\n",
    "Given a probability distribution, the mean of a distribution calculated from its PMF is lower than if we were to calculate the mean by taking a sample from it. This happens because the larger classes tend to get oversampled."
   ]
  },
  {
   "cell_type": "code",
   "execution_count": 14,
   "metadata": {
    "collapsed": false,
    "jupyter": {
     "outputs_hidden": false
    }
   },
   "outputs": [
    {
     "data": {
      "text/plain": [
       "Text(0.5, 0, 'class size')"
      ]
     },
     "execution_count": 14,
     "metadata": {},
     "output_type": "execute_result"
    },
    {
     "data": {
      "image/png": "[encoded data removed]",
      "text/plain": [
       "<Figure size 640x480 with 1 Axes>"
      ]
     },
     "metadata": {},
     "output_type": "display_data"
    }
   ],
   "source": [
    "class_size_dist = {\n",
    "    7: 8,\n",
    "    12: 8,\n",
    "    17: 14,\n",
    "    22: 4,\n",
    "    27: 6,\n",
    "    32: 12,\n",
    "    37: 8,\n",
    "    42: 3,\n",
    "    47: 2\n",
    "}\n",
    "class_sizes = []\n",
    "for k in class_size_dist.keys():\n",
    "    num_k = class_size_dist[k]\n",
    "    for i in range(num_k):\n",
    "        class_sizes.append(k)\n",
    "pmf_class_sizes = np.histogram(np.array(class_sizes), bins=40, range=(7,47), density=True)\n",
    "plt.bar(pmf_class_sizes[1][:-1], pmf_class_sizes[0], width=2)\n",
    "plt.xlim([0, 50])\n",
    "plt.ylabel(\"probability\")\n",
    "plt.xlabel(\"class size\")"
   ]
  },
  {
   "cell_type": "code",
   "execution_count": 31,
   "metadata": {
    "collapsed": false,
    "jupyter": {
     "outputs_hidden": false
    }
   },
   "outputs": [
    {
     "name": "stdout",
     "output_type": "stream",
     "text": [
      "Avg class size according to the Dean: 23.662\n"
     ]
    }
   ],
   "source": [
    "def pmf_mean(pmf):\n",
    "    ps = pmf[0]\n",
    "    xs = pmf[1][:-1]\n",
    "    return np.dot(ps, xs)\n",
    "\n",
    "dean_mean = pmf_mean(pmf_class_sizes)\n",
    "print(\"Avg class size according to the Dean: %.3f\" % (dean_mean))"
   ]
  },
  {
   "cell_type": "code",
   "execution_count": 32,
   "metadata": {
    "collapsed": false,
    "jupyter": {
     "outputs_hidden": false
    }
   },
   "outputs": [
    {
     "name": "stdout",
     "output_type": "stream",
     "text": [
      "Avg class size according to polling: 19\n"
     ]
    }
   ],
   "source": [
    "# extract and shuffle population\n",
    "actual_pop = []\n",
    "for key in class_size_dist.keys():\n",
    "    for i in range(class_size_dist[key]):\n",
    "        actual_pop.append(key)\n",
    "pop = np.array(actual_pop)\n",
    "np.random.shuffle(pop)\n",
    "\n",
    "# sample from this population for 1/10-th the size\n",
    "polled_sample = []\n",
    "pop_size = pop.shape[0]\n",
    "sample_size =  int(pop_size * 0.1)\n",
    "for i in range(sample_size):\n",
    "    dice = np.random.randint(pop_size)\n",
    "    polled_sample.append(pop[dice])\n",
    "polled_mean = sum(polled_sample) / len(polled_sample)\n",
    "\n",
    "print(\"Avg class size according to polling: %d\" % polled_mean)"
   ]
  },
  {
   "cell_type": "markdown",
   "metadata": {},
   "source": [
    "## Birth Weights\n",
    "\n",
    "PMFs work well if the number of values is small, but as the number increases, the probability associated with each value gets smaller and smaller and the effect of random noise increases."
   ]
  },
  {
   "cell_type": "code",
   "execution_count": 33,
   "metadata": {
    "collapsed": false,
    "jupyter": {
     "outputs_hidden": false
    }
   },
   "outputs": [
    {
     "data": {
      "text/html": [
       "<div>\n",
       "<style scoped>\n",
       "    .dataframe tbody tr th:only-of-type {\n",
       "        vertical-align: middle;\n",
       "    }\n",
       "\n",
       "    .dataframe tbody tr th {\n",
       "        vertical-align: top;\n",
       "    }\n",
       "\n",
       "    .dataframe thead th {\n",
       "        text-align: right;\n",
       "    }\n",
       "</style>\n",
       "<table border=\"1\" class=\"dataframe\">\n",
       "  <thead>\n",
       "    <tr style=\"text-align: right;\">\n",
       "      <th></th>\n",
       "      <th>caseid</th>\n",
       "      <th>nbrnaliv</th>\n",
       "      <th>babysex</th>\n",
       "      <th>birthwgt_lb</th>\n",
       "      <th>birthwgt_oz</th>\n",
       "      <th>prglength</th>\n",
       "      <th>outcome</th>\n",
       "      <th>birthord</th>\n",
       "      <th>agepreg</th>\n",
       "      <th>finalwgt</th>\n",
       "    </tr>\n",
       "  </thead>\n",
       "  <tbody>\n",
       "    <tr>\n",
       "      <th>0</th>\n",
       "      <td>1</td>\n",
       "      <td>1.0</td>\n",
       "      <td>1.0</td>\n",
       "      <td>8.0</td>\n",
       "      <td>13.0</td>\n",
       "      <td>39</td>\n",
       "      <td>1</td>\n",
       "      <td>1.0</td>\n",
       "      <td>33.0</td>\n",
       "      <td>6448.271112</td>\n",
       "    </tr>\n",
       "    <tr>\n",
       "      <th>1</th>\n",
       "      <td>1</td>\n",
       "      <td>1.0</td>\n",
       "      <td>2.0</td>\n",
       "      <td>7.0</td>\n",
       "      <td>14.0</td>\n",
       "      <td>39</td>\n",
       "      <td>1</td>\n",
       "      <td>2.0</td>\n",
       "      <td>39.0</td>\n",
       "      <td>6448.271112</td>\n",
       "    </tr>\n",
       "    <tr>\n",
       "      <th>2</th>\n",
       "      <td>2</td>\n",
       "      <td>3.0</td>\n",
       "      <td>1.0</td>\n",
       "      <td>9.0</td>\n",
       "      <td>2.0</td>\n",
       "      <td>39</td>\n",
       "      <td>1</td>\n",
       "      <td>1.0</td>\n",
       "      <td>14.0</td>\n",
       "      <td>12999.542264</td>\n",
       "    </tr>\n",
       "    <tr>\n",
       "      <th>3</th>\n",
       "      <td>2</td>\n",
       "      <td>1.0</td>\n",
       "      <td>2.0</td>\n",
       "      <td>7.0</td>\n",
       "      <td>0.0</td>\n",
       "      <td>39</td>\n",
       "      <td>1</td>\n",
       "      <td>2.0</td>\n",
       "      <td>17.0</td>\n",
       "      <td>12999.542264</td>\n",
       "    </tr>\n",
       "    <tr>\n",
       "      <th>4</th>\n",
       "      <td>2</td>\n",
       "      <td>1.0</td>\n",
       "      <td>2.0</td>\n",
       "      <td>6.0</td>\n",
       "      <td>3.0</td>\n",
       "      <td>39</td>\n",
       "      <td>1</td>\n",
       "      <td>3.0</td>\n",
       "      <td>18.0</td>\n",
       "      <td>12999.542264</td>\n",
       "    </tr>\n",
       "  </tbody>\n",
       "</table>\n",
       "</div>"
      ],
      "text/plain": [
       "   caseid  nbrnaliv  babysex  birthwgt_lb  birthwgt_oz  prglength  outcome  \\\n",
       "0       1       1.0      1.0          8.0         13.0         39        1   \n",
       "1       1       1.0      2.0          7.0         14.0         39        1   \n",
       "2       2       3.0      1.0          9.0          2.0         39        1   \n",
       "3       2       1.0      2.0          7.0          0.0         39        1   \n",
       "4       2       1.0      2.0          6.0          3.0         39        1   \n",
       "\n",
       "   birthord  agepreg      finalwgt  \n",
       "0       1.0     33.0   6448.271112  \n",
       "1       2.0     39.0   6448.271112  \n",
       "2       1.0     14.0  12999.542264  \n",
       "3       2.0     17.0  12999.542264  \n",
       "4       3.0     18.0  12999.542264  "
      ]
     },
     "execution_count": 33,
     "metadata": {},
     "output_type": "execute_result"
    }
   ],
   "source": [
    "pregnancies = pd.read_fwf(\"2002FemPreg.dat\", \n",
    "                         names=[\"caseid\", \"nbrnaliv\", \"babysex\", \"birthwgt_lb\",\n",
    "                               \"birthwgt_oz\", \"prglength\", \"outcome\", \"birthord\",\n",
    "                               \"agepreg\", \"finalwgt\"],\n",
    "                         colspecs=[(0, 12), (21, 22), (55, 56), (57, 58), (58, 60),\n",
    "                                (274, 276), (276, 277), (278, 279), (283, 285), (422, 439)])\n",
    "pregnancies.head()"
   ]
  },
  {
   "cell_type": "code",
   "execution_count": 34,
   "metadata": {
    "collapsed": false,
    "jupyter": {
     "outputs_hidden": false
    }
   },
   "outputs": [
    {
     "name": "stderr",
     "output_type": "stream",
     "text": [
      "C:\\Users\\diptiwar\\AppData\\Local\\Temp\\ipykernel_19672\\3191878375.py:4: SettingWithCopyWarning: \n",
      "A value is trying to be set on a copy of a slice from a DataFrame.\n",
      "Try using .loc[row_indexer,col_indexer] = value instead\n",
      "\n",
      "See the caveats in the documentation: https://pandas.pydata.org/pandas-docs/stable/user_guide/indexing.html#returning-a-view-versus-a-copy\n",
      "  first_babies_df[\"totwgt\"] = first_babies_df[\"birthwgt_lb\"] * 16 + \\\n",
      "C:\\Users\\diptiwar\\AppData\\Local\\Temp\\ipykernel_19672\\3191878375.py:7: SettingWithCopyWarning: \n",
      "A value is trying to be set on a copy of a slice from a DataFrame.\n",
      "Try using .loc[row_indexer,col_indexer] = value instead\n",
      "\n",
      "See the caveats in the documentation: https://pandas.pydata.org/pandas-docs/stable/user_guide/indexing.html#returning-a-view-versus-a-copy\n",
      "  other_babies_df[\"totwgt\"] = other_babies_df[\"birthwgt_lb\"] * 16 + \\\n"
     ]
    },
    {
     "data": {
      "text/plain": [
       "<matplotlib.legend.Legend at 0x266c054bbd0>"
      ]
     },
     "execution_count": 34,
     "metadata": {},
     "output_type": "execute_result"
    },
    {
     "data": {
      "image/png": "[encoded data removed]",
      "text/plain": [
       "<Figure size 640x480 with 1 Axes>"
      ]
     },
     "metadata": {},
     "output_type": "display_data"
    }
   ],
   "source": [
    "live_births = pregnancies[pregnancies[\"outcome\"] == 1]\n",
    "\n",
    "first_babies_df = live_births[live_births[\"birthord\"] == 1]\n",
    "first_babies_df[\"totwgt\"] = first_babies_df[\"birthwgt_lb\"] * 16 + \\\n",
    "    first_babies_df[\"birthwgt_oz\"]\n",
    "other_babies_df = live_births[live_births[\"birthord\"] != 1]\n",
    "other_babies_df[\"totwgt\"] = other_babies_df[\"birthwgt_lb\"] * 16 + \\\n",
    "    other_babies_df[\"birthwgt_oz\"]\n",
    "\n",
    "first_babies = np.array(first_babies_df[\"totwgt\"].dropna())\n",
    "other_babies = np.array(other_babies_df[\"totwgt\"].dropna())\n",
    "\n",
    "range_lb = int(min([np.min(first_babies), np.min(other_babies)]))\n",
    "range_ub = int(max([np.max(first_babies), np.max(other_babies)]))\n",
    "nbr_bins = range_ub - range_lb\n",
    "\n",
    "pmf_first_babies = np.histogram(np.array(first_babies), \n",
    "                                bins=nbr_bins, range=(range_lb, range_ub), density=True)\n",
    "pmf_other_babies = np.histogram(np.array(other_babies), \n",
    "                                bins=nbr_bins, range=(range_lb, range_ub), density=True)\n",
    "\n",
    "width = 0.001\n",
    "plt.bar(np.arange(range_lb, range_ub), pmf_first_babies[0], color=\"blue\", label=\"first babies\")\n",
    "plt.bar(np.arange(range_lb, range_ub) + width, pmf_other_babies[0], \n",
    "         color=\"orange\", label=\"others\")\n",
    "plt.xlabel(\"weight (oz)\")\n",
    "plt.ylabel(\"probability\")\n",
    "plt.legend(loc=\"best\")"
   ]
  },
  {
   "cell_type": "markdown",
   "metadata": {},
   "source": [
    "## Percentiles"
   ]
  },
  {
   "cell_type": "code",
   "execution_count": 35,
   "metadata": {
    "collapsed": false,
    "jupyter": {
     "outputs_hidden": false
    }
   },
   "outputs": [
    {
     "name": "stdout",
     "output_type": "stream",
     "text": [
      "Percentile rank for 88: 60\n",
      "Percentile for rank 60: 88\n"
     ]
    }
   ],
   "source": [
    "def percentile_rank(xs, score):\n",
    "    count = 0\n",
    "    for x in xs:\n",
    "        if x < score:\n",
    "            count += 1\n",
    "    return 100.0 * count / len(xs)\n",
    "\n",
    "def percentile(xs, rank):\n",
    "    sxs = sorted(xs)\n",
    "    for x in sxs:\n",
    "        if percentile_rank(sxs, x) >= rank:\n",
    "            return x\n",
    "\n",
    "scores = np.array([55, 66, 77, 88, 99])\n",
    "print(\"Percentile rank for 88: %d\" % (percentile_rank(scores, 88)))\n",
    "print(\"Percentile for rank 60: %d\" % (percentile(scores, 60)))"
   ]
  },
  {
   "cell_type": "markdown",
   "metadata": {},
   "source": [
    "## CDFs\n",
    "\n",
    "### Representing CDFs\n"
   ]
  },
  {
   "cell_type": "code",
   "execution_count": 23,
   "metadata": {
    "collapsed": false,
    "jupyter": {
     "outputs_hidden": false
    }
   },
   "outputs": [
    {
     "data": {
      "text/plain": [
       "Text(0, 0.5, 'CDF(x)')"
      ]
     },
     "execution_count": 23,
     "metadata": {},
     "output_type": "execute_result"
    },
    {
     "data": {
      "image/png": "[encoded data removed]",
      "text/plain": [
       "<Figure size 640x480 with 1 Axes>"
      ]
     },
     "metadata": {},
     "output_type": "display_data"
    }
   ],
   "source": [
    "sample = [1, 2, 2, 3, 5]\n",
    "hist = np.histogram(sample, bins=5, range=(0, 5), density=True)\n",
    "plt.step(hist[1][:-1], np.cumsum(hist[0]))\n",
    "plt.xlabel(\"x\")\n",
    "plt.ylabel(\"CDF(x)\")"
   ]
  },
  {
   "cell_type": "markdown",
   "metadata": {},
   "source": [
    "### CDF for the survey data\n",
    "\n",
    "Based on the visualization below, it appears that there is almost no variation of birth weights between first born children and other children."
   ]
  },
  {
   "cell_type": "code",
   "execution_count": 24,
   "metadata": {
    "collapsed": false,
    "jupyter": {
     "outputs_hidden": false
    }
   },
   "outputs": [
    {
     "data": {
      "text/plain": [
       "<matplotlib.legend.Legend at 0x266be9915d0>"
      ]
     },
     "execution_count": 24,
     "metadata": {},
     "output_type": "execute_result"
    },
    {
     "data": {
      "image/png": "[encoded data removed]",
      "text/plain": [
       "<Figure size 640x480 with 1 Axes>"
      ]
     },
     "metadata": {},
     "output_type": "display_data"
    }
   ],
   "source": [
    "def cdf(pmf):\n",
    "    xs = pmf[1][:-1]\n",
    "    ps = np.cumsum(pmf[0])\n",
    "    return np.vstack((xs, ps)).T\n",
    "\n",
    "cdf_first_babies = cdf(pmf_first_babies)\n",
    "cdf_other_babies = cdf(pmf_other_babies)\n",
    "plt.step(cdf_first_babies[:, 0], cdf_first_babies[:, 1], color=\"r\", label=\"first babies\")\n",
    "plt.step(cdf_other_babies[:, 0], cdf_other_babies[:, 1], color=\"b\", label=\"others\")\n",
    "plt.xlabel(\"weight (oz)\")\n",
    "plt.ylabel(\"probability\")\n",
    "plt.legend(loc=\"best\")"
   ]
  },
  {
   "cell_type": "markdown",
   "metadata": {},
   "source": [
    "A first born weighing 7 lb 9oz has a probability of 0.63 and a percentile rank of 63. Conversely, a first born in the 75 percentile rank has "
   ]
  },
  {
   "cell_type": "code",
   "execution_count": 26,
   "metadata": {
    "collapsed": false,
    "jupyter": {
     "outputs_hidden": false
    }
   },
   "outputs": [
    {
     "name": "stdout",
     "output_type": "stream",
     "text": [
      "Percentile rank of first baby 7 lb 9 oz: 62.862\n",
      "Weight of first born in the 75th percentile: 128.000 oz\n"
     ]
    }
   ],
   "source": [
    "xs = cdf_first_babies[:, 0]\n",
    "ps = cdf_first_babies[:, 1]\n",
    "\n",
    "# given the weight find the percentile\n",
    "birth_weight = (7 * 16) + 9\n",
    "for i in range(xs.shape[0]):\n",
    "    if xs[i] >= birth_weight:\n",
    "        break\n",
    "pc_rank = ps[i] * 100\n",
    "print(\"Percentile rank of first baby 7 lb 9 oz: %.3f\" % (pc_rank))\n",
    "\n",
    "# given the percentile find the weight\n",
    "percentile = 75\n",
    "for i in range(ps.shape[0]):\n",
    "    if ps[i] > 0.01 * percentile:\n",
    "        break\n",
    "weight = xs[i]\n",
    "print(\"Weight of first born in the 75th percentile: %.3f oz\" % (weight))"
   ]
  },
  {
   "cell_type": "markdown",
   "metadata": {},
   "source": [
    "## Conditional Distributions\n",
    "\n",
    "Distribution of a subset of data which is selected according to a condition.\n",
    "\n",
    "Overall rank in race: 97 out of 1633, what is percentile rank?\n",
    "\n",
    "Rank in division: 26 out of 256, what is percentile rank in division?"
   ]
  },
  {
   "cell_type": "code",
   "execution_count": 27,
   "metadata": {
    "collapsed": false,
    "jupyter": {
     "outputs_hidden": false
    }
   },
   "outputs": [
    {
     "name": "stdout",
     "output_type": "stream",
     "text": [
      "overall percentile rank: 5.940, percentile rank in division: 10.156\n"
     ]
    }
   ],
   "source": [
    "overall_percentile_rank = 97.0 * 100 / 1633\n",
    "division_percentile_rank = 26.0 * 100 / 256\n",
    "print(\"overall percentile rank: %.3f, percentile rank in division: %.3f\" % \n",
    "      (overall_percentile_rank, division_percentile_rank))"
   ]
  },
  {
   "cell_type": "markdown",
   "metadata": {},
   "source": [
    "## Random Numbers\n",
    "\n",
    "CDFs are useful for generating random numbers with a given distribution. We will use the first born birth weights to generate a sample from it.\n",
    "\n",
    "The process of generating a sample based on another sample is called resampling. Resampling can be with replacement (random.random or random.choice) and without replacement (random.sample)."
   ]
  },
  {
   "cell_type": "code",
   "execution_count": 28,
   "metadata": {
    "collapsed": false,
    "jupyter": {
     "outputs_hidden": false
    }
   },
   "outputs": [
    {
     "data": {
      "text/plain": [
       "<matplotlib.legend.Legend at 0x266be9ba510>"
      ]
     },
     "execution_count": 28,
     "metadata": {},
     "output_type": "execute_result"
    },
    {
     "data": {
      "image/png": "[encoded data removed]",
      "text/plain": [
       "<Figure size 640x480 with 1 Axes>"
      ]
     },
     "metadata": {},
     "output_type": "display_data"
    }
   ],
   "source": [
    "sample_size = 100\n",
    "samples = []\n",
    "for i in range(sample_size):\n",
    "    prob = np.random.random()\n",
    "    for j in range(ps.shape[0]):\n",
    "        if ps[j] > prob:\n",
    "            break\n",
    "    samples.append(xs[j])\n",
    "\n",
    "# create a CDF for the new sample\n",
    "pmf_sample = np.histogram(np.array(samples), \n",
    "                          bins=nbr_bins, range=(range_lb, range_ub), density=True)\n",
    "cdf_sample = cdf(pmf_sample)\n",
    "\n",
    "# plot CDF for original and sample\n",
    "plt.step(cdf_first_babies[:, 0], cdf_first_babies[:, 1], color=\"r\", label=\"first babies\")\n",
    "plt.step(cdf_sample[:, 0], cdf_sample[:, 1], color=\"b\", label=\"sample (100)\")\n",
    "plt.xlabel(\"weight (oz)\")\n",
    "plt.ylabel(\"probability\")\n",
    "plt.legend(loc=\"best\")"
   ]
  },
  {
   "cell_type": "markdown",
   "metadata": {},
   "source": [
    "Generate 1000 numbers using random.random and plot their PMF and CDF. The CDF indicates that its a uniform distribution because cumulative probability increases almost linearly."
   ]
  },
  {
   "cell_type": "code",
   "execution_count": 29,
   "metadata": {
    "collapsed": false,
    "jupyter": {
     "outputs_hidden": false
    }
   },
   "outputs": [
    {
     "data": {
      "image/png": "[encoded data removed]",
      "text/plain": [
       "<Figure size 640x480 with 1 Axes>"
      ]
     },
     "metadata": {},
     "output_type": "display_data"
    },
    {
     "data": {
      "image/png": "[encoded data removed]",
      "text/plain": [
       "<Figure size 640x480 with 1 Axes>"
      ]
     },
     "metadata": {},
     "output_type": "display_data"
    }
   ],
   "source": [
    "random_pop = np.random.random(1000)\n",
    "pmf_random = np.histogram(random_pop, bins=1000, range=(0, 1), density=True)\n",
    "\n",
    "# plot PMF\n",
    "plt.bar(range(1000), pmf_random[0])\n",
    "plt.xlabel(\"x\")\n",
    "plt.ylabel(\"probability\")\n",
    "plt.show()\n",
    "\n",
    "# plot CDF\n",
    "cdf_random = cdf(pmf_random)\n",
    "plt.step(cdf_random[:, 0], cdf_random[:, 1])\n",
    "plt.xlabel(\"x\")\n",
    "plt.ylabel(\"probability\")\n",
    "plt.show()"
   ]
  },
  {
   "cell_type": "markdown",
   "metadata": {},
   "source": [
    "## Summary Statistics Revisited\n",
    "\n",
    "We find the median and IQR using the CDF for the firstborn birth weights."
   ]
  },
  {
   "cell_type": "code",
   "execution_count": 30,
   "metadata": {
    "collapsed": false,
    "jupyter": {
     "outputs_hidden": false
    }
   },
   "outputs": [
    {
     "name": "stdout",
     "output_type": "stream",
     "text": [
      "median = 116.000\n",
      "Q1 = 103.000, Q3 = 128.000, IQR = 25.000\n"
     ]
    }
   ],
   "source": [
    "xs = cdf_first_babies[:, 0]\n",
    "ps = cdf_first_babies[:, 1]\n",
    "\n",
    "# median\n",
    "for i in range(ps.shape[0]):\n",
    "    if ps[i] >= 0.5:\n",
    "        break\n",
    "print(\"median = %.3f\" % (xs[i]))\n",
    "\n",
    "# IQR\n",
    "for i in range(ps.shape[0]):\n",
    "    if ps[i] >= 0.25:\n",
    "        break\n",
    "q1 = xs[i]\n",
    "for i in range(ps.shape[0]):\n",
    "    if ps[i] >= 0.75:\n",
    "        break\n",
    "q3 = xs[i]\n",
    "iqr = q3 - q1\n",
    "print(\"Q1 = %.3f, Q3 = %.3f, IQR = %.3f\" % (q1, q3, iqr))"
   ]
  },
  {
   "cell_type": "code",
   "execution_count": null,
   "metadata": {
    "collapsed": true,
    "jupyter": {
     "outputs_hidden": true
    }
   },
   "outputs": [],
   "source": []
  }
 ],
 "metadata": {
  "kernelspec": {
   "display_name": "Python 3 (ipykernel)",
   "language": "python",
   "name": "python3"
  },
  "language_info": {
   "codemirror_mode": {
    "name": "ipython",
    "version": 3
   },
   "file_extension": ".py",
   "mimetype": "text/x-python",
   "name": "python",
   "nbconvert_exporter": "python",
   "pygments_lexer": "ipython3",
   "version": "3.11.1"
  }
 },
 "nbformat": 4,
 "nbformat_minor": 4
}

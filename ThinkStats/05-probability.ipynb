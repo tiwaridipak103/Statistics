{
 "cells": [
  {
   "cell_type": "markdown",
   "metadata": {},
   "source": [
    "## Probability\n",
    "\n",
    "This notebook is for Chapter 5 (Probability) of [Think Stats - Probability and Statistics for Programmers](http://greenteapress.com/thinkstats/) by Allen B Downey.\n",
    "\n",
    "Objective: Introduction to probability.\n",
    "\n",
    "__Frequentism__ - probability defined in terms of frequencies.\n",
    "\n",
    "__Bayesianism__ - probability is the degree of belief that an event will occur.\n",
    "\n",
    "### Rules of Probability\n",
    "\n",
    "    P(A and B) = P(A).P(B), where A and B are independent.\n",
    "    P(A|B) = P(A and B) / P(B), where A and B are not independent.\n"
   ]
  },
  {
   "cell_type": "code",
   "execution_count": 1,
   "metadata": {},
   "outputs": [],
   "source": [
    "from __future__ import print_function, division\n",
    "#from scipy.misc import comb\n",
    "from scipy.special import comb\n",
    "from scipy.stats import norm\n",
    "import math\n",
    "import matplotlib.pyplot as plt\n",
    "import numpy as np\n",
    "%matplotlib inline"
   ]
  },
  {
   "cell_type": "markdown",
   "metadata": {},
   "source": [
    "__Exercise 5.1:__ If I roll 2 dice and get 8, what is the chance that one of the dice is 6?\n",
    "\n",
    "(2,6), (3,5), (4,4), (5,3), (6,2) are the only ways of getting an 8. Of these, there are 2 cases where 1 dice has a 6. Thus the answer is 2/5 = 0.4\n",
    "\n",
    "__Exercise 5.2:__ If I roll 100 die, what is the chance of getting all sixes?\n",
    "\n",
    "Chance of getting 6 on 1 die is 1/6. Since the dice throws are mutually independent events, it is (1/6)\\*\\*100, ie, 1.530646707486498e-78.\n",
    "\n",
    "__Exercise 5.3 (a):__ If a family has 2 children, what is the chance that they will be both girls?\n",
    "\n",
    "Family with 2 children can have one of (B,B), (B,G), (G,B), (G,G), so its 0.25.\n",
    "\n",
    "__Exercise 5.3 (b):__ If a family has 2 children and we know at least one of them is a girl, what is the chance that they have 2 girls?\n",
    "\n",
    "They can have (B,G) or (G,G), so its 0.5.\n",
    "\n",
    "__Exercise 5.3 (c):__ If a family has 2 children and we know the older one is a girl, what is the chance they have 2 girls?\n",
    "\n",
    "Same as above.\n",
    "\n",
    "__Exercise 5.3 (d):__ If a family has 2 children and we know that at least one of them is a girl named Florida, what is the chance they have 2 girls?\n",
    "\n",
    "Same as above.\n",
    "\n",
    "#### Monty Hall\n",
    "\n",
    "__Exercise 5.4:__ Write a program that simulates the Monty Hall problem and use it to estimate the probability if you stick or switch."
   ]
  },
  {
   "cell_type": "code",
   "execution_count": 2,
   "metadata": {},
   "outputs": [
    {
     "name": "stdout",
     "output_type": "stream",
     "text": [
      "1 2\n"
     ]
    }
   ],
   "source": [
    "# Assume there are 3 door i.e 1 , 2 and 3\n",
    "\n",
    "# let perform this trial for 1000 times \n",
    "nbr_games = 1000\n",
    "nbr_wins_if_stick = 0\n",
    "nbr_wins_if_switch = 0\n",
    "\n",
    "# Scenerio 1:\n",
    "door_with_prize = 1\n",
    "first_guess = 1\n",
    "# monty opens one of the \"other\" doors\n",
    "doors_available = [2, 3]\n",
    "door_opened = 2 # Monty can open either 2 or 3 . The probabilty of opening either of them is 0.5\n",
    "second_guess = 3\n",
    "\n",
    "\n",
    "if door_with_prize == first_guess:\n",
    "    nbr_wins_if_stick += 1\n",
    "\n",
    "if door_with_prize == second_guess:\n",
    "    nbr_wins_if_switch += 1\n",
    "\n",
    "\n",
    "# Scenerio 2:\n",
    "door_with_prize = 2\n",
    "first_guess = 1\n",
    "# monty opens one of the \"other\" doors\n",
    "doors_available = [2,3]\n",
    "door_opened = 3 # Monty can open either 1 or 3 . The probabilty of opening either of them is 0.5\n",
    "second_guess = 2\n",
    "\n",
    "\n",
    "if door_with_prize == first_guess:\n",
    "    nbr_wins_if_stick += 1\n",
    "\n",
    "if door_with_prize == second_guess:\n",
    "    nbr_wins_if_switch += 1\n",
    "\n",
    "\n",
    "# Scenerio 3:\n",
    "door_with_prize = 3\n",
    "first_guess = 1\n",
    "# monty opens one of the \"other\" doors\n",
    "doors_available = [2,3]\n",
    "door_opened = 2 # Monty can open either 2 or 3 . The probabilty of opening either of them is 0.5\n",
    "second_guess = 3\n",
    "\n",
    "\n",
    "if door_with_prize == first_guess:\n",
    "    nbr_wins_if_stick += 1\n",
    "\n",
    "if door_with_prize == second_guess:\n",
    "    nbr_wins_if_switch += 1\n",
    "\n",
    "\n",
    "\n",
    "\n",
    "print(nbr_wins_if_stick , nbr_wins_if_switch)\n"
   ]
  },
  {
   "cell_type": "code",
   "execution_count": 3,
   "metadata": {},
   "outputs": [
    {
     "name": "stdout",
     "output_type": "stream",
     "text": [
      "2\n"
     ]
    },
    {
     "data": {
      "text/plain": [
       "0"
      ]
     },
     "execution_count": 3,
     "metadata": {},
     "output_type": "execute_result"
    }
   ],
   "source": [
    "# door with the car behind it\n",
    "door_with_prize = 0\n",
    "\n",
    "# make first guess\n",
    "first_guess = 1\n",
    "\n",
    "# monty opens one of the \"other\" doors\n",
    "doors_available = [x for x in [0, 1, 2] if x != door_with_prize\n",
    "                                        and x != first_guess]\n",
    "door_opened = doors_available[np.random.randint(len(doors_available))]\n",
    "print(door_opened)\n",
    "second_guess = [x for x in [0, 1, 2] if x != door_opened\n",
    "                                     and x != first_guess][0]\n",
    "second_guess"
   ]
  },
  {
   "cell_type": "code",
   "execution_count": null,
   "metadata": {},
   "outputs": [],
   "source": []
  },
  {
   "cell_type": "code",
   "execution_count": null,
   "metadata": {},
   "outputs": [],
   "source": []
  },
  {
   "cell_type": "code",
   "execution_count": 4,
   "metadata": {},
   "outputs": [
    {
     "name": "stdout",
     "output_type": "stream",
     "text": [
      "Probability of winning if you stick: 0.337\n",
      "Probability of winning if you switch: 0.663\n"
     ]
    }
   ],
   "source": [
    "nbr_games = 100000\n",
    "nbr_wins_if_stick = 0\n",
    "nbr_wins_if_switch = 0\n",
    "first_guress = 0\n",
    "for i in range(nbr_games):\n",
    "    # door with the car behind it\n",
    "    door_with_prize = np.random.randint(3)  #-------------------> 0\n",
    "    \n",
    "    # make first guess\n",
    "    first_guess = np.random.randint(3)      #-------------------> 1\n",
    "    \n",
    "    # monty opens one of the \"other\" doors\n",
    "    doors_available = [x for x in [0, 1, 2] if x != door_with_prize\n",
    "                                            and x != first_guess]\n",
    "    door_opened = doors_available[np.random.randint(len(doors_available))]\n",
    "\n",
    "    if door_with_prize == door_opened:\n",
    "        first_guress += 1\n",
    "        \n",
    "    second_guess = [x for x in [0, 1, 2] if x != door_opened\n",
    "                                         and x != first_guess][0]\n",
    "    if door_with_prize == first_guess:\n",
    "        nbr_wins_if_stick += 1\n",
    "    if door_with_prize == second_guess:\n",
    "        nbr_wins_if_switch += 1\n",
    "print(\"Probability of winning if you stick: %.3f\" % (nbr_wins_if_stick / nbr_games))\n",
    "print(\"Probability of winning if you switch: %.3f\" % (nbr_wins_if_switch / nbr_games))"
   ]
  },
  {
   "cell_type": "code",
   "execution_count": 5,
   "metadata": {},
   "outputs": [
    {
     "data": {
      "text/plain": [
       "0"
      ]
     },
     "execution_count": 5,
     "metadata": {},
     "output_type": "execute_result"
    }
   ],
   "source": [
    "first_guress"
   ]
  },
  {
   "cell_type": "code",
   "execution_count": null,
   "metadata": {},
   "outputs": [],
   "source": []
  },
  {
   "cell_type": "markdown",
   "metadata": {},
   "source": [
    "__Exercise 5.5:__ It is important to realize that by deciding which door to open, Monty is giving you information. Simulate the situation where this is not the case by making Monty open door B or C at random. If he opens the door with the car, the game is over and you cannot decide whether to stick or switch."
   ]
  },
  {
   "cell_type": "code",
   "execution_count": 6,
   "metadata": {},
   "outputs": [
    {
     "name": "stdout",
     "output_type": "stream",
     "text": [
      "Probability of winning if you stick: 0.316\n",
      "Probability of winning if you switch: 0.343\n"
     ]
    }
   ],
   "source": [
    "nbr_games = 1000\n",
    "nbr_wins_if_stick = 0\n",
    "nbr_wins_if_switch = 0\n",
    "for i in range(nbr_games):\n",
    "    # door with the car behind it\n",
    "    door_with_prize = np.random.randint(3)\n",
    "    # make first guess\n",
    "    first_guess = np.random.randint(3)\n",
    "    # monty opens one of the \"other\" doors\n",
    "    doors_available = [x for x in [0, 1, 2] if x != first_guess]\n",
    "    door_opened = doors_available[np.random.randint(len(doors_available))]\n",
    "    if door_opened == door_with_prize:\n",
    "        continue\n",
    "    second_guess = [x for x in [0, 1, 2] if x != door_opened\n",
    "                                         and x != first_guess][0]\n",
    "\n",
    "    if door_with_prize == first_guess:\n",
    "        nbr_wins_if_stick += 1\n",
    "    if door_with_prize == second_guess:\n",
    "        nbr_wins_if_switch += 1\n",
    "print(\"Probability of winning if you stick: %.3f\" % (nbr_wins_if_stick / nbr_games))\n",
    "print(\"Probability of winning if you switch: %.3f\" % (nbr_wins_if_switch / nbr_games))"
   ]
  },
  {
   "cell_type": "markdown",
   "metadata": {},
   "source": [
    "#### Poincare\n",
    "\n",
    "__Exercise 5.6:__ Write a program that simulates a baker who chooses n loaves from a distribution with mean 950g and standard deviation 50g and gives the heaviest one to Poincare. What value of n yields a distribution with mean 1000g? What is the standard deviation?\n",
    "\n",
    "Compare this distribution to a normal distribution with the same mean and same standard deviation. Is the difference in the shape of the distribution big enough to convince the bread police?"
   ]
  },
  {
   "cell_type": "code",
   "execution_count": 90,
   "metadata": {},
   "outputs": [
    {
     "data": {
      "text/plain": [
       "array([-0.7192549 ,  1.20162407, -1.18437037, -1.61967663])"
      ]
     },
     "execution_count": 90,
     "metadata": {},
     "output_type": "execute_result"
    }
   ],
   "source": [
    "np.random.randn(4)"
   ]
  },
  {
   "cell_type": "code",
   "execution_count": 91,
   "metadata": {},
   "outputs": [
    {
     "name": "stdout",
     "output_type": "stream",
     "text": [
      "1055.4877201869501\n",
      "1013.5969991672337\n",
      "1013.5677591791444\n",
      "1006.3983726161097\n",
      "1031.551464312037\n",
      "987.3631219417758\n",
      "1018.524813688279\n",
      "1068.1545830425773\n",
      "992.2006826130096\n",
      "965.0813144109233\n",
      "992.6672018562041\n",
      "993.9996309008889\n",
      "970.1239004644387\n",
      "997.5839300553163\n",
      "951.4385958323322\n",
      "1031.5472661016304\n",
      "935.8708669446249\n",
      "1025.7963341375173\n",
      "1001.9619481195763\n",
      "1001.8255896524906\n"
     ]
    }
   ],
   "source": [
    "nbr_days = 20\n",
    "n = 4\n",
    "ploaf = np.zeros(nbr_days)\n",
    "for day in range(nbr_days):\n",
    "    loaf_wgts = 950 + 50 * np.random.randn(n)\n",
    "    print(np.max(loaf_wgts))"
   ]
  },
  {
   "cell_type": "code",
   "execution_count": 95,
   "metadata": {},
   "outputs": [
    {
     "name": "stdout",
     "output_type": "stream",
     "text": [
      "Poincare's loaves: mean = 1001.380, sd = 33.691\n"
     ]
    },
    {
     "data": {
      "text/plain": [
       "<matplotlib.legend.Legend at 0x18f72bc5910>"
      ]
     },
     "execution_count": 95,
     "metadata": {},
     "output_type": "execute_result"
    },
    {
     "data": {
      "image/png": "[encoded data removed]",
      "text/plain": [
       "<Figure size 640x480 with 1 Axes>"
      ]
     },
     "metadata": {},
     "output_type": "display_data"
    }
   ],
   "source": [
    "nbr_days = 365\n",
    "n = 4\n",
    "ploaf = np.zeros(nbr_days)\n",
    "for day in range(nbr_days):\n",
    "    loaf_wgts = 950 + 50 * np.random.randn(n)\n",
    "    ploaf[day] = np.max(loaf_wgts)\n",
    "print(\"Poincare's loaves: mean = %.3f, sd = %.3f\" % (np.mean(ploaf), np.std(ploaf)))\n",
    "\n",
    "xs = np.linspace(950-100, 950+100, 200)\n",
    "loaf_ys = norm.pdf(xs, 950, 10)\n",
    "#ploaf_ys = norm.pdf(xs, 1000, 34)\n",
    "ploaf_ys = norm.pdf(xs, 1000, 37)\n",
    "plt.plot(xs, loaf_ys, color=\"red\", label=\"others\")\n",
    "plt.plot(xs, ploaf_ys, color=\"blue\", label=\"poincare\")\n",
    "plt.xlabel(\"weight (g)\")\n",
    "plt.ylabel(\"probability\")\n",
    "plt.legend(loc=\"best\")"
   ]
  },
  {
   "cell_type": "markdown",
   "metadata": {},
   "source": [
    "__Exercise 5.7:__ If you go to a dance where partners are paired up randomly, what percentage of opposite sex couples will you see where the woman is taller than the man? Distribution of heights is roughly normal with mean of 178 and SD 59.4 for men and 163 and 52.8 for women."
   ]
  },
  {
   "cell_type": "code",
   "execution_count": 7,
   "metadata": {},
   "outputs": [
    {
     "name": "stdout",
     "output_type": "stream",
     "text": [
      "Probability of woman being taller: 0.420\n"
     ]
    }
   ],
   "source": [
    "nbr_obs = 1000\n",
    "nbr_woman_taller = 0\n",
    "men_heights = np.random.normal(loc=178, scale=59.4, size=nbr_obs)\n",
    "women_heights = np.random.normal(loc=163, scale=52.8, size=nbr_obs)\n",
    "for i in range(nbr_obs):\n",
    "    nbr_woman_taller += 1 if women_heights[i] > men_heights[i] else 0\n",
    "print(\"Probability of woman being taller: %.3f\" % (nbr_woman_taller / nbr_obs))"
   ]
  },
  {
   "cell_type": "markdown",
   "metadata": {},
   "source": [
    "### Mutually Exclusive Events\n",
    "\n",
    "    P(A|B) = P(B|A) = 0\n",
    "    P(A or B) = P(A) + P(B)              if A and B are mutually exclusive\n",
    "    P(A or B) = P(A) + P(B) - P(A and B) in general\n",
    "\n",
    "__Exercise 5.8:__ If I roll 2 dice, what is the chance of rolling at least one six?\n",
    "\n",
    "Rolling at least 1 six = First dice roll 6 + Second dice roll 6 + Both dice roll 6 = (1/6)+(1/6)+(1/36) = 0.36.\n",
    "\n",
    "__Exercise 5.9:__ What is the general formula for probability of A or B but not both?\n",
    "\n",
    "    P(A or B) = P(A) + P(B) - P(A and B)\n",
    "    \n",
    "\n",
    "### Binomial Distribution\n",
    "\n",
    "Chance of getting exactly k successes from n trials, given p is the probability of success.\n",
    "\n",
    "$$PMF(k) = \\binom{n}{k}p^{k}(1-p)^{n-k}$$\n",
    "\n",
    "$$\\binom{n}{k} = \\frac{n!}{k!(n-k)!}$$\n",
    "\n",
    "__Exercise 5.10:__ If you flip a coin 100 times, you expect about 50 heads, but what is the probability of getting exactly 50 heads?"
   ]
  },
  {
   "cell_type": "code",
   "execution_count": 101,
   "metadata": {},
   "outputs": [
    {
     "name": "stdout",
     "output_type": "stream",
     "text": [
      "probability of exactly 50 heads in 100 tosses: 0.080\n"
     ]
    }
   ],
   "source": [
    "p = comb(100, 50) * math.pow(0.5, 50) * math.pow(0.5, 50)\n",
    "print(\"probability of exactly 50 heads in 100 tosses: %.3f\" % (p))"
   ]
  },
  {
   "cell_type": "markdown",
   "metadata": {},
   "source": [
    "### Streaks and hot spots\n",
    "\n",
    "__Example 5.11:__ If there are 10 players in a basketball game and each one takes 15 shots during the course of the game, and each shot has a 50% probability of going in, what is the probability that you will see, in a given game, at least 1 player who hits 10 shots in a row? If you watch a season of 82 games, what are the chances of seeing at least one string of 10 hits or misses?"
   ]
  },
  {
   "cell_type": "code",
   "execution_count": 105,
   "metadata": {},
   "outputs": [
    {
     "name": "stdout",
     "output_type": "stream",
     "text": [
      "chance of seeing at least 1 streak per game: 0.040\n",
      "chance of seeing at least 1 streak per season: 0.993\n"
     ]
    }
   ],
   "source": [
    "def step(x, t):\n",
    "    return 1 if x > t else 0\n",
    "\n",
    "nbr_sims = 1000\n",
    "nbr_players = 10\n",
    "nbr_succ = 0\n",
    "for g in range(nbr_sims):\n",
    "    nbr_streaks = 0\n",
    "    for p in range(nbr_players):\n",
    "        #nbr_streaks = 0\n",
    "        shots = [step(x, 0.5) for x in np.random.random(15).tolist()]\n",
    "        for i in range(len(shots)-10):\n",
    "            window = shots[i:i+10]\n",
    "            if sum(window) == 10:\n",
    "                nbr_streaks += 1\n",
    "    # we saw at least 1 streak (or not) in this game\n",
    "    nbr_succ += 1 if nbr_streaks > 0 else 0\n",
    "print(\"chance of seeing at least 1 streak per game: %.3f\" % (nbr_succ / nbr_sims))\n",
    "\n",
    "nbr_games = 82\n",
    "nbr_succ = 0\n",
    "for s in range(nbr_sims):\n",
    "    nbr_streaks = 0\n",
    "    for g in range(nbr_games):\n",
    "        #nbr_streaks = 0\n",
    "        for p in range(nbr_players):\n",
    "            shots = [step(x, 0.5) for x in np.random.random(15).tolist()]\n",
    "            for i in range(len(shots)-10):\n",
    "                window = shots[i:i+10]\n",
    "                if sum(window) == 10 or sum(window) == 0:\n",
    "                    nbr_streaks += 1\n",
    "    nbr_succ += 1 if nbr_streaks > 0 else 0\n",
    "print(\"chance of seeing at least 1 streak per season: %.3f\" % (nbr_succ / nbr_sims))"
   ]
  },
  {
   "cell_type": "markdown",
   "metadata": {},
   "source": [
    "__Exercise 5.12:__ In 1941 Joe DiMaggio got at least 1 hit in 56 consecutive games. Use Monte Carlo simulation to estimate the probability that any player in major league baseball will have a hitting streak of 57 or more games in the next century."
   ]
  },
  {
   "cell_type": "code",
   "execution_count": 106,
   "metadata": {},
   "outputs": [
    {
     "name": "stdout",
     "output_type": "stream",
     "text": [
      "chance of another hitting streak: 0.0000000\n"
     ]
    }
   ],
   "source": [
    "nbr_sims = 1000\n",
    "nbr_years = 100 # next century\n",
    "nbr_games_per_season = 162 # from wikipedia\n",
    "nbr_succ = 0\n",
    "for sim in range(nbr_sims):\n",
    "    nbr_streaks = 0\n",
    "    for i in range(nbr_years):\n",
    "        #nbr_streaks = 0\n",
    "        hits = [step(x, 0.5) for x in np.random.random(nbr_games_per_season).tolist()]\n",
    "        for j in range(len(hits)-57):\n",
    "            window = hits[j:j+57]\n",
    "            if sum(window) == 57:\n",
    "                nbr_streaks += 1\n",
    "    if nbr_streaks > 0:\n",
    "        nbr_succ += 1\n",
    "print(\"chance of another hitting streak: %.7f\" % (nbr_succ / nbr_sims))"
   ]
  },
  {
   "cell_type": "markdown",
   "metadata": {},
   "source": [
    "__Exercise 5.13:__ Suppose that a particular cancer has an incidence of 1 case per thousand people per year. If you follow a particular cohort of 100 people for 10 years, you would expect to see about 1 case. If you saw two cases, that would not be very surprising, but more than than two would be rare. Write a program that simulates a large number of cohorts over a 10 year period and estimates the distribution of total cases.\n",
    "\n",
    "An observation is considered statistically significant if its probability by chance alone, called a p-value, is less than 5%. In a cohort of 100 people over 10 years, how many cases would you have to see to meet this criterion?\n",
    "\n",
    "Now imagine that you divide a population of 10000 people into 100 cohorts and follow them for 10 years. What is the chance that at least one of the cohorts will have a “statistically significant” cluster? What if we require a p-value of 1%?\n",
    "\n",
    "Now imagine that you arrange 10000 people in a 100x100 grid and follow them for 10 years. What is the chance that there will be at least one 10x10 block anywhere in the grid with a statistically significant cluster?\n",
    "\n",
    "Finally, imagine that you follow a grid of 10000 people for 30 years. What is the chance that there will be a 10-year interval at some point with a 10x10 block anywhere in the grid with a statistically significant cluster?"
   ]
  },
  {
   "cell_type": "code",
   "execution_count": 108,
   "metadata": {},
   "outputs": [
    {
     "data": {
      "image/png": "[encoded data removed]",
      "text/plain": [
       "<Figure size 640x480 with 1 Axes>"
      ]
     },
     "metadata": {},
     "output_type": "display_data"
    },
    {
     "data": {
      "image/png": "[encoded data removed]",
      "text/plain": [
       "<Figure size 640x480 with 1 Axes>"
      ]
     },
     "metadata": {},
     "output_type": "display_data"
    }
   ],
   "source": [
    "p = 0.001 # one case per 1000 per year\n",
    "nbr_cohorts = 1000\n",
    "nbr_years = 10\n",
    "cohort_size = 100\n",
    "nbr_cases_dist = []\n",
    "for c in range(nbr_cohorts):\n",
    "    nbr_cases = 0\n",
    "    for y in range(nbr_years):\n",
    "        for i in range(cohort_size):\n",
    "            d = np.random.random()\n",
    "            if d < p:\n",
    "                nbr_cases += 1\n",
    "    nbr_cases_dist.append(nbr_cases)\n",
    "nbr_case_dist = np.array(nbr_cases_dist)\n",
    "range_lb = np.min(nbr_case_dist)\n",
    "range_ub = np.max(nbr_case_dist)\n",
    "nbr_bins = range_ub - range_lb\n",
    "\n",
    "# compute PMF\n",
    "pmf = np.histogram(np.array(nbr_cases_dist), bins=nbr_bins, range=(range_lb, range_ub),\n",
    "                   density=True)\n",
    "plt.bar(pmf[1][:-1], pmf[0])\n",
    "plt.xlabel(\"# of cases\")\n",
    "plt.ylabel(\"probability\")\n",
    "plt.show()\n",
    "\n",
    "# compute CDF\n",
    "ps = np.cumsum(np.sort(pmf[0]))\n",
    "xs = pmf[1][:-1]\n",
    "plt.step(xs, ps)\n",
    "plt.xlabel(\"# of cases\")\n",
    "plt.ylabel(\"cumulative probability\")\n",
    "plt.grid(True)\n",
    "plt.show()"
   ]
  },
  {
   "cell_type": "markdown",
   "metadata": {},
   "source": [
    "Statistically significant at p-value of 5% means the # of cases at cumulative probability of 0.95, ie 5 cases. For statistical significance at p-value of 1% means the number of cases at cumulative probability 0.99, also 5 cases.\n",
    "\n",
    "Other cases are just about rearranging the loops so not doing them.\n",
    "\n",
    "### Bayes Theorem\n",
    "\n",
    "$$P(A|B) = \\frac{P(B|A)P(A)}{P(B)}$$\n",
    "\n",
    "Here P(A) is the __prior__, P(A|B) is the __posterior__, P(B|A) is the __likelihood__, and P(B) is the __normalizing constant__.\n",
    "\n",
    "__Exercise 5.14:__ Write a program that takes the actual rate of drug use, and the sensitivity and specificity of the test, and computes P(drug use|positive test).\n",
    "\n",
    "Suppose the same test is applied to a population where the actual rate of drug use is 1%. What is the probability that someone who tests positive is actually a drug user?"
   ]
  },
  {
   "cell_type": "code",
   "execution_count": 109,
   "metadata": {},
   "outputs": [
    {
     "name": "stdout",
     "output_type": "stream",
     "text": [
      "0.7594936708860758\n",
      "0.3773584905660375\n"
     ]
    }
   ],
   "source": [
    "def compute_drug_use_given_positive_test(p_drug_use,    # p(drug use)\n",
    "                                        sensitivity,    # p(positive result | drug use)\n",
    "                                        specificity):   # p(negative result | -drug use)\n",
    "    norm = (p_drug_use * sensitivity) + ((1 - p_drug_use)*(1 - specificity))\n",
    "    return (p_drug_use * sensitivity) / norm\n",
    "\n",
    "print(compute_drug_use_given_positive_test(0.05, 0.6, 0.99))\n",
    "print(compute_drug_use_given_positive_test(0.01, 0.6, 0.99))"
   ]
  },
  {
   "cell_type": "markdown",
   "metadata": {},
   "source": [
    "Discussions for solutions to the exercises below can be found on Allen Downey's [blog post](http://allendowney.blogspot.com/2011/10/all-your-bayes-are-belong-to-us.html).\n",
    "\n",
    "__Exercise 5.15:__ Suppose there are two full bowls of cookies. Bowl 1 has 10 chocolate chip and 30 plain cookies, while Bowl 2 has 20 of each. Fred picks a bowl at random, and then picks a cookie at random. The cookie turns out to be a plain one. How probable is it that Fred picked it out of Bowl 1?"
   ]
  },
  {
   "cell_type": "code",
   "execution_count": 11,
   "metadata": {},
   "outputs": [
    {
     "name": "stdout",
     "output_type": "stream",
     "text": [
      "0.6\n"
     ]
    }
   ],
   "source": [
    "p_bowl1 = 0.5\n",
    "p_bowl2 = 0.5\n",
    "p_plain_given_bowl1 = 30 / (10 + 30)\n",
    "p_plain_given_bowl2 = 20 / (20 + 20)\n",
    "p_bowl1_given_plain = p_plain_given_bowl1 * p_bowl1\n",
    "p_bowl1_given_plain /= (p_plain_given_bowl1 * p_bowl1) + (p_plain_given_bowl2 * p_bowl2)\n",
    "print(p_bowl1_given_plain)"
   ]
  },
  {
   "cell_type": "markdown",
   "metadata": {},
   "source": [
    "__Exercise 5.16:__ The blue M&M was introduced in 1995. Before then, the color mix in a bag of plain M&Ms was (30% Brown, 20% Yellow, 20% Red, 10% Green, 10% Orange, 10% Tan). Afterward it was (24% Blue , 20% Green, 16% Orange, 14% Yellow, 13% Red, 13% Brown).\n",
    "\n",
    "A friend has two bags of M&Ms, and he tells me that one is from 1994 and one from 1996. He won’t tell me which is which, but he gives me one M&M from each bag. One is yellow and one is green. What is the probability that the yellow M&M came from the 1994 bag?"
   ]
  },
  {
   "cell_type": "code",
   "execution_count": 110,
   "metadata": {},
   "outputs": [
    {
     "name": "stdout",
     "output_type": "stream",
     "text": [
      "0.7407407407407408\n"
     ]
    }
   ],
   "source": [
    "# h1 = bag 1 is from 1994 and bag 2 is from 1996\n",
    "# h2 = bag 1 is from 1996 and bag 2 is from 1994\n",
    "# e = yellow and green M&M\n",
    "p_h1 = 0.5\n",
    "p_h2 = 0.5\n",
    "p_e_given_h1 = 0.2 * 0.2  # P(y from 1994 bag) * P(g from 1996 bag)\n",
    "p_e_given_h2 = 0.1 * 0.14 # P(y from 1996 bag) * P(g from 1994 bag)\n",
    "p_h1_given_e = p_e_given_h1 * p_h1\n",
    "p_h1_given_e /= ((p_e_given_h1 * p_h1) + (p_e_given_h2 * p_h2))\n",
    "print(p_h1_given_e)"
   ]
  },
  {
   "cell_type": "markdown",
   "metadata": {},
   "source": [
    "__Exercise 5.17:__ Elvis Presley had a twin brother who died at birth. According to the\n",
    "Wikipedia article on twins - Twins are estimated to be approximately 1.9% of the world population, with monozygotic twins making up 0.2% of the total and 8% of all twins. What is the probability that Elvis was an identical twin?"
   ]
  },
  {
   "cell_type": "code",
   "execution_count": 111,
   "metadata": {},
   "outputs": [
    {
     "name": "stdout",
     "output_type": "stream",
     "text": [
      "0.14814814814814814\n"
     ]
    }
   ],
   "source": [
    "# h1 = elvis had identical twin\n",
    "# h2 = elvis had fraternal twin\n",
    "# e = brother was male\n",
    "p_h1 = 0.08\n",
    "p_h2 = 1 - p_h1\n",
    "p_e_given_h1 = 1.0     # identical twins have same sex\n",
    "p_e_given_h2 = 0.5     # fraternal twins can have either sex\n",
    "p_h1_given_e = p_e_given_h1 * p_h1\n",
    "p_h1_given_e /= ((p_e_given_h1 * p_h1) + (p_e_given_h2 * p_h2))\n",
    "print(p_h1_given_e)"
   ]
  },
  {
   "cell_type": "code",
   "execution_count": null,
   "metadata": {
    "collapsed": true,
    "jupyter": {
     "outputs_hidden": true
    }
   },
   "outputs": [],
   "source": []
  }
 ],
 "metadata": {
  "kernelspec": {
   "display_name": "Python 3 (ipykernel)",
   "language": "python",
   "name": "python3"
  },
  "language_info": {
   "codemirror_mode": {
    "name": "ipython",
    "version": 3
   },
   "file_extension": ".py",
   "mimetype": "text/x-python",
   "name": "python",
   "nbconvert_exporter": "python",
   "pygments_lexer": "ipython3",
   "version": "3.11.1"
  }
 },
 "nbformat": 4,
 "nbformat_minor": 4
}

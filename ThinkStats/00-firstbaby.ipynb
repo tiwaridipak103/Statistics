{
 "cells": [
  {
   "cell_type": "markdown",
   "metadata": {},
   "source": [
    "# Do first babies arrive late?\n",
    "\n",
    "This notebook is for:\n",
    "\n",
    "* Chapter 1 (Statistical Thinking for Programmers) \n",
    "* Chapter 2 (Descriptive Statistics) \n",
    "\n",
    "of [Think Stats - Probability and Statistics for Programmers](http://greenteapress.com/thinkstats/) by Allen B Downey.\n",
    "\n",
    "Objective is to answer the question in title above using the tools of statistics, which are:\n",
    "\n",
    "* Data collection\n",
    "* Descriptive Statistics\n",
    "* Exploratory Data Analysis\n",
    "* Hypothesis Testing\n",
    "* Estimation"
   ]
  },
  {
   "cell_type": "code",
   "execution_count": 1,
   "metadata": {},
   "outputs": [],
   "source": [
    "from __future__ import division, print_function\n",
    "import matplotlib.pyplot as plt\n",
    "import numpy as np\n",
    "import pandas as pd\n",
    "%matplotlib inline"
   ]
  },
  {
   "cell_type": "markdown",
   "metadata": {},
   "source": [
    "## Chapter 1 - Statistical Thinking\n",
    "\n",
    "### Data Collection\n",
    "\n",
    "Data is from National Survey of Family Growth (NSFG) initiative of the US Centers for Disease Control (CDC). NSFG is a __cross-sectional study__, not a __longitudinal one__. Data was [downloaded from here](http://greenteapress.com/thinkstats/nsfg.html).\n",
    "\n",
    "I used information from survey.py::Pregnancies::GetFields method to specify the colspecs in the read_fwf function below."
   ]
  },
  {
   "cell_type": "code",
   "execution_count": 2,
   "metadata": {},
   "outputs": [
    {
     "name": "stdout",
     "output_type": "stream",
     "text": [
      "# of respondents: 7643\n",
      "# of pregnancies: 13593\n"
     ]
    }
   ],
   "source": [
    "f_resp = open(\"2002FemResp.dat\", 'rb')\n",
    "nbr_resp = 0\n",
    "for l_resp in f_resp:\n",
    "    nbr_resp += 1\n",
    "f_resp.close()\n",
    "f_preg = open(\"2002FemPreg.dat\", 'rb')\n",
    "nbr_preg = 0\n",
    "for l_preg in f_preg:\n",
    "    nbr_preg += 1\n",
    "f_preg.close()\n",
    "\n",
    "print(\"# of respondents: %d\" % (nbr_resp))\n",
    "print(\"# of pregnancies: %d\" % (nbr_preg))"
   ]
  },
  {
   "cell_type": "code",
   "execution_count": 3,
   "metadata": {},
   "outputs": [
    {
     "data": {
      "text/html": [
       "<div>\n",
       "<style scoped>\n",
       "    .dataframe tbody tr th:only-of-type {\n",
       "        vertical-align: middle;\n",
       "    }\n",
       "\n",
       "    .dataframe tbody tr th {\n",
       "        vertical-align: top;\n",
       "    }\n",
       "\n",
       "    .dataframe thead th {\n",
       "        text-align: right;\n",
       "    }\n",
       "</style>\n",
       "<table border=\"1\" class=\"dataframe\">\n",
       "  <thead>\n",
       "    <tr style=\"text-align: right;\">\n",
       "      <th></th>\n",
       "      <th>caseid</th>\n",
       "      <th>nbrnaliv</th>\n",
       "      <th>babysex</th>\n",
       "      <th>birthwgt_lb</th>\n",
       "      <th>birthwgt_oz</th>\n",
       "      <th>prglength</th>\n",
       "      <th>outcome</th>\n",
       "      <th>birthord</th>\n",
       "      <th>agepreg</th>\n",
       "      <th>finalwgt</th>\n",
       "    </tr>\n",
       "  </thead>\n",
       "  <tbody>\n",
       "    <tr>\n",
       "      <th>0</th>\n",
       "      <td>1</td>\n",
       "      <td>1.0</td>\n",
       "      <td>1.0</td>\n",
       "      <td>8.0</td>\n",
       "      <td>81.0</td>\n",
       "      <td>39</td>\n",
       "      <td>1</td>\n",
       "      <td>1.0</td>\n",
       "      <td>33.0</td>\n",
       "      <td>6448.271112</td>\n",
       "    </tr>\n",
       "    <tr>\n",
       "      <th>1</th>\n",
       "      <td>1</td>\n",
       "      <td>1.0</td>\n",
       "      <td>2.0</td>\n",
       "      <td>7.0</td>\n",
       "      <td>71.0</td>\n",
       "      <td>39</td>\n",
       "      <td>1</td>\n",
       "      <td>2.0</td>\n",
       "      <td>39.0</td>\n",
       "      <td>6448.271112</td>\n",
       "    </tr>\n",
       "    <tr>\n",
       "      <th>2</th>\n",
       "      <td>2</td>\n",
       "      <td>3.0</td>\n",
       "      <td>1.0</td>\n",
       "      <td>9.0</td>\n",
       "      <td>9.0</td>\n",
       "      <td>39</td>\n",
       "      <td>1</td>\n",
       "      <td>1.0</td>\n",
       "      <td>14.0</td>\n",
       "      <td>12999.542264</td>\n",
       "    </tr>\n",
       "    <tr>\n",
       "      <th>3</th>\n",
       "      <td>2</td>\n",
       "      <td>1.0</td>\n",
       "      <td>2.0</td>\n",
       "      <td>7.0</td>\n",
       "      <td>7.0</td>\n",
       "      <td>39</td>\n",
       "      <td>1</td>\n",
       "      <td>2.0</td>\n",
       "      <td>17.0</td>\n",
       "      <td>12999.542264</td>\n",
       "    </tr>\n",
       "    <tr>\n",
       "      <th>4</th>\n",
       "      <td>2</td>\n",
       "      <td>1.0</td>\n",
       "      <td>2.0</td>\n",
       "      <td>6.0</td>\n",
       "      <td>6.0</td>\n",
       "      <td>39</td>\n",
       "      <td>1</td>\n",
       "      <td>3.0</td>\n",
       "      <td>18.0</td>\n",
       "      <td>12999.542264</td>\n",
       "    </tr>\n",
       "  </tbody>\n",
       "</table>\n",
       "</div>"
      ],
      "text/plain": [
       "   caseid  nbrnaliv  babysex  birthwgt_lb  birthwgt_oz  prglength  outcome  \\\n",
       "0       1       1.0      1.0          8.0         81.0         39        1   \n",
       "1       1       1.0      2.0          7.0         71.0         39        1   \n",
       "2       2       3.0      1.0          9.0          9.0         39        1   \n",
       "3       2       1.0      2.0          7.0          7.0         39        1   \n",
       "4       2       1.0      2.0          6.0          6.0         39        1   \n",
       "\n",
       "   birthord  agepreg      finalwgt  \n",
       "0       1.0     33.0   6448.271112  \n",
       "1       2.0     39.0   6448.271112  \n",
       "2       1.0     14.0  12999.542264  \n",
       "3       2.0     17.0  12999.542264  \n",
       "4       3.0     18.0  12999.542264  "
      ]
     },
     "execution_count": 3,
     "metadata": {},
     "output_type": "execute_result"
    }
   ],
   "source": [
    "pregnancies = pd.read_fwf(\"2002FemPreg.dat\", \n",
    "                         names=[\"caseid\", \"nbrnaliv\", \"babysex\", \"birthwgt_lb\",\n",
    "                               \"birthwgt_oz\", \"prglength\", \"outcome\", \"birthord\",\n",
    "                               \"agepreg\", \"finalwgt\"],\n",
    "                         colspecs=[(0, 12), (21, 22), (55, 56), (57, 58), (57, 59),\n",
    "                                (274, 276), (276, 277), (278, 279), (283, 285), (422, 439)])\n",
    "pregnancies.head()"
   ]
  },
  {
   "cell_type": "markdown",
   "metadata": {},
   "source": [
    "### Exploratory Analysis\n",
    "\n",
    "Shows that about 9,000 of the 13,500 pregnancies here result in live births. Of these, the data is fairly evenly split between first baby and other babies.\n",
    "\n",
    "Pregnancy lengths for first babies seem to be only slightly higher (0.078 weeks) than for other babies. Such a difference is called an __apparent effect__, ie, there might be something going on, but we are not sure."
   ]
  },
  {
   "cell_type": "code",
   "execution_count": 4,
   "metadata": {},
   "outputs": [
    {
     "name": "stdout",
     "output_type": "stream",
     "text": [
      "# of live births: 9148\n"
     ]
    }
   ],
   "source": [
    "live_births = pregnancies[pregnancies[\"outcome\"] == 1]\n",
    "print(\"# of live births: %d\" % len(live_births))"
   ]
  },
  {
   "cell_type": "code",
   "execution_count": 5,
   "metadata": {},
   "outputs": [
    {
     "name": "stdout",
     "output_type": "stream",
     "text": [
      "# first babies: 4413\n",
      "# other babies: 4735\n"
     ]
    }
   ],
   "source": [
    "first_babies = live_births[live_births[\"birthord\"] == 1]\n",
    "other_babies = live_births[live_births[\"birthord\"] != 1]\n",
    "print(\"# first babies: %d\" % len(first_babies))\n",
    "print(\"# other babies: %d\" % len(other_babies))"
   ]
  },
  {
   "cell_type": "code",
   "execution_count": 6,
   "metadata": {},
   "outputs": [
    {
     "name": "stdout",
     "output_type": "stream",
     "text": [
      "Average pregnancy length for first baby: 38.601 weeks\n",
      "Average pregnancy length for other baby: 38.523 weeks\n",
      "Difference: 0.078 weeks\n"
     ]
    }
   ],
   "source": [
    "avg_prglen_first_baby = first_babies[\"prglength\"].mean()\n",
    "avg_prglen_other_baby = other_babies[\"prglength\"].mean()\n",
    "print(\"Average pregnancy length for first baby: %.3f weeks\" % (avg_prglen_first_baby))\n",
    "print(\"Average pregnancy length for other baby: %.3f weeks\" % (avg_prglen_other_baby))\n",
    "print(\"Difference: %.3f weeks\" % (avg_prglen_first_baby - avg_prglen_other_baby))"
   ]
  },
  {
   "cell_type": "markdown",
   "metadata": {},
   "source": [
    "## Chapter 2 - Descriptive Statistics\n",
    "\n",
    "### Distributions\n",
    "\n",
    "Summary statistics - mean, variance, median, etc. Dangerous because they obscure the data. Alternative is to look at distributions of the data - describes how often each value appears.\n",
    "\n",
    "Distributions are usually represented as histograms (raw frequencies binned into equally spaced buckets). Normalized histogram is called Probability Mass Function (PMF).\n",
    "\n",
    "### Representing Distributions"
   ]
  },
  {
   "cell_type": "code",
   "execution_count": 7,
   "metadata": {},
   "outputs": [
    {
     "name": "stdout",
     "output_type": "stream",
     "text": [
      "first baby preg length min: 0, max: 48\n",
      "other baby preg length min: 4, max: 50\n",
      "range: (0, 50) #-bins: 50\n"
     ]
    }
   ],
   "source": [
    "prglen_first_babies = np.array(first_babies[\"prglength\"])\n",
    "prglen_other_babies = np.array(other_babies[\"prglength\"])\n",
    "\n",
    "# setting up range of histogram and number of bins\n",
    "first_baby_min_prglen = np.min(prglen_first_babies)\n",
    "first_baby_max_prglen = np.max(prglen_first_babies)\n",
    "other_baby_min_prglen = np.min(prglen_other_babies)\n",
    "other_baby_max_prglen = np.max(prglen_other_babies)\n",
    "print(\"first baby preg length min: %d, max: %d\" % \n",
    "      (first_baby_min_prglen, first_baby_max_prglen))\n",
    "print(\"other baby preg length min: %d, max: %d\" % \n",
    "      (other_baby_min_prglen, other_baby_max_prglen))\n",
    "\n",
    "bin_lb = min([first_baby_min_prglen, other_baby_min_prglen])\n",
    "bin_ub = max([first_baby_max_prglen, other_baby_max_prglen])\n",
    "nbr_bins = bin_ub - bin_lb\n",
    "bin_range = (bin_lb, bin_ub)\n",
    "print(\"range:\", bin_range, \"#-bins:\", nbr_bins)\n",
    "\n",
    "# building the histograms\n",
    "first_baby_fdist = np.histogram(np.array(prglen_first_babies), bins=nbr_bins, range=bin_range)\n",
    "other_baby_fdist = np.histogram(np.array(prglen_other_babies), bins=nbr_bins, range=bin_range)"
   ]
  },
  {
   "cell_type": "code",
   "execution_count": 8,
   "metadata": {},
   "outputs": [
    {
     "name": "stdout",
     "output_type": "stream",
     "text": [
      "First baby arrival top week (mode): 39\n",
      "Other baby arrival top week (mode): 39\n",
      "First baby top 5 frequent weeks: [(39, 2114), (40, 536), (41, 360), (38, 272), (37, 208)]\n",
      "Other baby top 5 frequent weeks: [(39, 2579), (40, 580), (38, 335), (37, 247), (41, 227)]\n"
     ]
    }
   ],
   "source": [
    "def mode(fdist):\n",
    "    \"\"\" takes a histogram and returns the most frequent value \"\"\"\n",
    "    mode_idx = np.argmax(fdist[0])\n",
    "    return fdist[1][mode_idx]\n",
    "\n",
    "def all_modes(fdist):\n",
    "    \"\"\" takes a histogram and returns (value, freq) pairs in desc freq \"\"\"\n",
    "    mode_idxs = np.argsort(fdist[0])[::-1]\n",
    "    vf_pairs = []\n",
    "    for i in range(mode_idxs.shape[0]):\n",
    "        vf_pairs.append((int(fdist[1][mode_idxs[i]]), fdist[0][mode_idxs[i]]))\n",
    "    return vf_pairs\n",
    "    \n",
    "print(\"First baby arrival top week (mode): %d\" % (mode(first_baby_fdist)))\n",
    "print(\"Other baby arrival top week (mode): %d\" % (mode(other_baby_fdist)))\n",
    "\n",
    "print(\"First baby top 5 frequent weeks:\", all_modes(first_baby_fdist)[0:5])\n",
    "print(\"Other baby top 5 frequent weeks:\", all_modes(other_baby_fdist)[0:5])"
   ]
  },
  {
   "cell_type": "markdown",
   "metadata": {},
   "source": [
    "### Plotting Histograms\n",
    "\n",
    "From histogram below, it looks like until about week 41, other babies tend to arrive sooner in aggregate, but after that more first babies arrive. So there seems to be evidence that first babies do tend to arrive late.\n",
    "\n",
    "Other information from the plot:\n",
    "\n",
    "* Mode - most common week for arrival seems to be 39 weeks.\n",
    "* Shape - distribution is assymetric around the mode, drops of quicker to right than left. Possible reason is because surgical intervention happens for late pregnancies.\n",
    "* Outliers - babies born at 30 weeks are probably just unusual, but may also reflect reporting errors."
   ]
  },
  {
   "cell_type": "code",
   "execution_count": 13,
   "metadata": {},
   "outputs": [
    {
     "data": {
      "image/png": "[encoded data removed]",
      "text/plain": [
       "<Figure size 640x480 with 1 Axes>"
      ]
     },
     "metadata": {},
     "output_type": "display_data"
    }
   ],
   "source": [
    "def draw_histogram(series1, series2, pmf=None):\n",
    "    y1 = np.histogram(np.array(series1), bins=nbr_bins, range=bin_range, density=pmf)[0]\n",
    "    y2 = np.histogram(np.array(series2), bins=nbr_bins, range=bin_range, density=pmf)[0]\n",
    "    width = 0.4\n",
    "    index = np.arange(nbr_bins)\n",
    "    plt.bar(index, y1, width, color=\"red\", label=\"first babies\")\n",
    "    plt.bar(index + width, y2, width, color=\"blue\", label=\"others\")\n",
    "    plt.legend(loc=\"best\")\n",
    "    plt.xlim([20, 50])\n",
    "    plt.xlabel(\"weeks\")\n",
    "    if pmf:\n",
    "        plt.ylabel(\"probability\")\n",
    "    else:\n",
    "        plt.ylabel(\"frequency\")\n",
    "    plt.show()\n",
    "    \n",
    "prglen_first_babies = first_babies[\"prglength\"]\n",
    "prglen_other_babies = other_babies[\"prglength\"]\n",
    "draw_histogram(prglen_first_babies, prglen_other_babies)"
   ]
  },
  {
   "cell_type": "markdown",
   "metadata": {},
   "source": [
    "### Representing PMFs\n",
    "\n",
    "PMFs normalize the raw frequencies by the population so they represent probabilities rather than frequency.\n",
    "\n",
    "__NOTE__ - Exercise 2.4 on survival analysis moved to section on conditional probability.\n",
    "\n",
    "We can get back the mean and standard deviation from the PMF as shown below."
   ]
  },
  {
   "cell_type": "code",
   "execution_count": 25,
   "metadata": {},
   "outputs": [
    {
     "name": "stdout",
     "output_type": "stream",
     "text": [
      "first babies, mean: 38.601, variance: 7.793\n",
      "other babies, mean: 38.522, variance: 6.832\n"
     ]
    }
   ],
   "source": [
    "def mean_from_pmf(pmf):\n",
    "    \"\"\" takes a normalized histogram and returns the mean value \"\"\"\n",
    "    ps = pmf[0]\n",
    "    xs = pmf[1][:-1]\n",
    "    return np.dot(ps, xs)\n",
    "    \n",
    "def variance_from_pmf(pmf, mean):\n",
    "    \"\"\" takes a normalized histogram and returns the variance \"\"\"\n",
    "    ps = pmf[0]\n",
    "    xs = pmf[1][:-1]\n",
    "    return np.dot(ps, np.power(xs - mean, 2))\n",
    "\n",
    "pmf_first_babies = np.histogram(np.array(first_babies[\"prglength\"]), \n",
    "                                bins=nbr_bins, range=bin_range, density=True)\n",
    "pmf_other_babies = np.histogram(np.array(other_babies[\"prglength\"]), \n",
    "                                bins=nbr_bins, range=bin_range, density=True)\n",
    "\n",
    "mean_first_babies = mean_from_pmf(pmf_first_babies)\n",
    "variance_first_babies = variance_from_pmf(pmf_first_babies, mean_first_babies)\n",
    "mean_other_babies = mean_from_pmf(pmf_other_babies)\n",
    "variance_other_babies = variance_from_pmf(pmf_other_babies, mean_other_babies)\n",
    "\n",
    "print(\"first babies, mean: %.3f, variance: %.3f\" % \n",
    "      (mean_first_babies, variance_first_babies))\n",
    "print(\"other babies, mean: %.3f, variance: %.3f\" % \n",
    "      (mean_other_babies, variance_other_babies))"
   ]
  },
  {
   "cell_type": "markdown",
   "metadata": {},
   "source": [
    "### Plotting PMFs\n",
    "\n",
    "PMFs are better for when the number of records in the two populations are very different (not the case here). However, it does show that first babies are less likely to arrive on time (week 39) and more likely to arrive late (first baby probs are higher starting week 42)."
   ]
  },
  {
   "cell_type": "code",
   "execution_count": 26,
   "metadata": {},
   "outputs": [
    {
     "data": {
      "image/png": "[encoded data removed]",
      "text/plain": [
       "<Figure size 640x480 with 1 Axes>"
      ]
     },
     "metadata": {},
     "output_type": "display_data"
    }
   ],
   "source": [
    "draw_histogram(prglen_first_babies, prglen_other_babies, pmf=True)"
   ]
  },
  {
   "cell_type": "markdown",
   "metadata": {},
   "source": [
    "### Outliers\n",
    "\n",
    "Using our knowledge of pregnancy terms, we can deduce that values for pregnancy lengths for live births under 20 are almost certainly errors, and values over 30 seem legitimate. So we truncate the data under 30 for the difference of PMF chart below (which also shows in much more detail how the probability of first baby arrival changes over weeks 30 - 50."
   ]
  },
  {
   "cell_type": "code",
   "execution_count": 27,
   "metadata": {},
   "outputs": [
    {
     "data": {
      "image/png": "[encoded data removed]",
      "text/plain": [
       "<Figure size 640x480 with 1 Axes>"
      ]
     },
     "metadata": {},
     "output_type": "display_data"
    }
   ],
   "source": [
    "pmf_first_babies = np.histogram(np.array(first_babies[\"prglength\"]), \n",
    "                                bins=nbr_bins, range=bin_range, density=True)\n",
    "pmf_other_babies = np.histogram(np.array(other_babies[\"prglength\"]), \n",
    "                                bins=nbr_bins, range=bin_range, density=True)\n",
    "\n",
    "prob_first_babies = pmf_first_babies[0]\n",
    "prob_other_babies = pmf_other_babies[0]\n",
    "prob_diff = 100.0 * (prob_first_babies - prob_other_babies)\n",
    "\n",
    "plt.bar(np.arange(nbr_bins), prob_diff)\n",
    "plt.xlim([30, 50])\n",
    "plt.xlabel(\"weeks\")\n",
    "plt.ylabel(\"100(Prob(first) - Prob(other))\")\n",
    "plt.show()"
   ]
  },
  {
   "cell_type": "markdown",
   "metadata": {},
   "source": [
    "### Relative Risk\n",
    "\n",
    "Assume a baby is early if born in week 37 or earlier, on time if born in weeks 38, 39 or 40, and late if born in week 41 or later.\n",
    "\n",
    "The relative risk is a ratio of probabilities. We compute the relative risk of a first baby being born early as the probability of a first baby being born early over the probability of a non-first baby being born early. Using this, we see that the relative risk for a first baby being born early is about 1.1, but the relative risk for a first baby being born late is 1.7."
   ]
  },
  {
   "cell_type": "code",
   "execution_count": 28,
   "metadata": {},
   "outputs": [
    {
     "name": "stdout",
     "output_type": "stream",
     "text": [
      "probability first baby born early: 0.182\n",
      "probability other baby born early: 0.168\n",
      "relative risk for first baby born early = 1.084\n",
      "\n",
      "probability first baby born late: 0.155\n",
      "probability other baby born late: 0.094\n",
      "relative risk for first baby born late = 1.658\n"
     ]
    }
   ],
   "source": [
    "# compute PMFs for each distribution\n",
    "pmf_first_babies = np.histogram(np.array(first_babies[\"prglength\"]), \n",
    "                                bins=nbr_bins, range=bin_range, density=True)\n",
    "pmf_other_babies = np.histogram(np.array(other_babies[\"prglength\"]), \n",
    "                                bins=nbr_bins, range=bin_range, density=True)\n",
    "\n",
    "# compute ranges of each distribution\n",
    "hist_bins = pmf_first_babies[1][:-1]\n",
    "born_early = np.where(hist_bins <= 37.0)[0]\n",
    "born_late = np.where(hist_bins >= 41.0)\n",
    "\n",
    "# sum of probability mass in these ranges is the prob of happening\n",
    "p_first_early = np.sum(pmf_first_babies[0][born_early])\n",
    "p_first_late = np.sum(pmf_first_babies[0][born_late])\n",
    "p_other_early = np.sum(pmf_other_babies[0][born_early])\n",
    "p_other_late = np.sum(pmf_other_babies[0][born_late])\n",
    "\n",
    "print(\"probability first baby born early: %.3f\" % (p_first_early))\n",
    "print(\"probability other baby born early: %.3f\" % (p_other_early))\n",
    "print(\"relative risk for first baby born early = %.3f\" % (p_first_early / p_other_early))\n",
    "print()\n",
    "print(\"probability first baby born late: %.3f\" % (p_first_late))\n",
    "print(\"probability other baby born late: %.3f\" % (p_other_late))\n",
    "print(\"relative risk for first baby born late = %.3f\" % (p_first_late / p_other_late))"
   ]
  },
  {
   "cell_type": "markdown",
   "metadata": {},
   "source": [
    "### Conditional Probability\n",
    "\n",
    "Given that someone you know is pregnant, and it is the beginning of week 39. What is the chance that the baby will be born this week? How much does the answer change if its the first baby?\n",
    "\n",
    "This is a question in Survival Analysis, ie, computing the remaining lifetime of something given its distribution. The idea is to generate a fake distribution using the PMF truncated at the specified age, then build a PMF out of the fake distribution."
   ]
  },
  {
   "cell_type": "code",
   "execution_count": 29,
   "metadata": {},
   "outputs": [
    {
     "name": "stdout",
     "output_type": "stream",
     "text": [
      "probability of baby being born in week 39 = 0.747\n"
     ]
    }
   ],
   "source": [
    "def remaining_lifetime(pmf, age):\n",
    "    \"\"\" Takes PMF and age and returns PMF of remaining lifetime \"\"\"\n",
    "    ages = pmf[1][:-1]\n",
    "    idxs = np.where(ages >= age)[0]\n",
    "    r_probs = pmf[0][idxs]\n",
    "    r_ages = ages[idxs]\n",
    "    # generate a fake population with r_probs and r_ages\n",
    "    fake_pop_size = 1000\n",
    "    fake_pop = []\n",
    "    for i in range(r_ages.shape[0]):\n",
    "        num_aged = int(r_probs[i] * fake_pop_size)\n",
    "        for j in range(num_aged):\n",
    "            fake_pop.append(r_ages[i])\n",
    "    # create a histogram and return\n",
    "    r_nbins = r_ages.shape[0]\n",
    "    r_range = (np.min(r_ages), np.max(r_ages))\n",
    "    return np.histogram(np.array(fake_pop), bins=r_nbins, range=r_range, density=True)\n",
    "\n",
    "pmf_live_births = np.histogram(np.array(live_births[\"prglength\"]), \n",
    "                               bins=nbr_bins, range=bin_range, density=True)\n",
    "pmf_all_remaining = remaining_lifetime(pmf_live_births, 39)\n",
    "print(\"probability of baby being born in week 39 = %.3f\" % pmf_all_remaining[0][0])"
   ]
  },
  {
   "cell_type": "code",
   "execution_count": 31,
   "metadata": {},
   "outputs": [
    {
     "data": {
      "text/plain": [
       "<BarContainer object of 11 artists>"
      ]
     },
     "execution_count": 31,
     "metadata": {},
     "output_type": "execute_result"
    },
    {
     "data": {
      "image/png": "[encoded data removed]",
      "text/plain": [
       "<Figure size 640x480 with 1 Axes>"
      ]
     },
     "metadata": {},
     "output_type": "display_data"
    }
   ],
   "source": [
    "width = 0.4\n",
    "#index = np.arange(len(r_ages))\n",
    "plt.bar([39., 40., 41., 42., 43., 44., 45., 46., 47., 48., 49.], pmf_all_remaining[0], width, color=\"red\", label=\"first babies\")"
   ]
  },
  {
   "cell_type": "code",
   "execution_count": 32,
   "metadata": {},
   "outputs": [
    {
     "name": "stdout",
     "output_type": "stream",
     "text": [
      "probability of baby being born in week 39 = 0.747\n",
      "probability of first baby being born in week 39 = 0.701\n",
      "probability of other baby being born in week 39 = 0.794\n",
      "\n",
      "probability of baby being born in week 42 = 0.702\n",
      "probability of first baby being born in week 42 = 0.740\n",
      "probability of other baby being born in week 42 = 0.697\n"
     ]
    }
   ],
   "source": [
    "# week 39\n",
    "pmf_live_births = np.histogram(np.array(live_births[\"prglength\"]), \n",
    "                               bins=nbr_bins, density=True)\n",
    "pmf_all_remaining = remaining_lifetime(pmf_live_births, 39)\n",
    "print(\"probability of baby being born in week 39 = %.3f\" % pmf_all_remaining[0][0])\n",
    "\n",
    "pmf_first_babies = np.histogram(np.array(first_babies[\"prglength\"]), \n",
    "                                bins=nbr_bins, range=bin_range, density=True)\n",
    "pmf_first_remaining = remaining_lifetime(pmf_first_babies, 39)\n",
    "print(\"probability of first baby being born in week 39 = %.3f\" % pmf_first_remaining[0][0])\n",
    "\n",
    "pmf_other_babies = np.histogram(np.array(other_babies[\"prglength\"]), \n",
    "                                bins=nbr_bins, range=bin_range, density=True)\n",
    "pmf_other_remaining = remaining_lifetime(pmf_other_babies, 39)\n",
    "print(\"probability of other baby being born in week 39 = %.3f\" % pmf_other_remaining[0][0])\n",
    "print()\n",
    "\n",
    "# week 42\n",
    "pmf_all_remaining = remaining_lifetime(pmf_live_births, 42)\n",
    "print(\"probability of baby being born in week 42 = %.3f\" % pmf_all_remaining[0][0])\n",
    "\n",
    "pmf_first_remaining = remaining_lifetime(pmf_first_babies, 42)\n",
    "print(\"probability of first baby being born in week 42 = %.3f\" % pmf_first_remaining[0][0])\n",
    "\n",
    "pmf_other_remaining = remaining_lifetime(pmf_other_babies, 42)\n",
    "print(\"probability of other baby being born in week 42 = %.3f\" % pmf_other_remaining[0][0])"
   ]
  },
  {
   "cell_type": "markdown",
   "metadata": {},
   "source": [
    "Generalizing the code further to compute the probability of a baby (first or any) baby born in week x, where x can vary from 0 to 50."
   ]
  },
  {
   "cell_type": "code",
   "execution_count": 33,
   "metadata": {},
   "outputs": [
    {
     "name": "stderr",
     "output_type": "stream",
     "text": [
      "C:\\Program Files\\Python311\\Lib\\site-packages\\numpy\\lib\\histograms.py:885: RuntimeWarning: invalid value encountered in divide\n",
      "  return n/db/n.sum(), bin_edges\n"
     ]
    },
    {
     "data": {
      "image/png": "[encoded data removed]",
      "text/plain": [
       "<Figure size 640x480 with 1 Axes>"
      ]
     },
     "metadata": {},
     "output_type": "display_data"
    }
   ],
   "source": [
    "def cond_prob(pmf, x):\n",
    "    \"\"\" Returns probability that birth will occur at week x given person \n",
    "        is pregnant at week x \"\"\"\n",
    "    return remaining_lifetime(pmf, x)[0][0]\n",
    "\n",
    "first_birth_probs = []\n",
    "other_birth_probs = []\n",
    "for x in range(0, 49):\n",
    "    first_birth_probs.append(cond_prob(pmf_first_babies, x))\n",
    "    other_birth_probs.append(cond_prob(pmf_other_babies, x))\n",
    "\n",
    "plt.plot(range(len(first_birth_probs)), first_birth_probs, color='r', label=\"first births\")\n",
    "plt.plot(range(len(first_birth_probs)), other_birth_probs, color='b', label=\"other births\")\n",
    "\n",
    "plt.ylabel(\"probability(birth|pregnant for x weeks)\")\n",
    "plt.xlabel(\"weeks\")\n",
    "plt.xlim([25, 50])\n",
    "plt.legend(loc=\"best\")\n",
    "plt.grid()\n",
    "plt.show()"
   ]
  },
  {
   "cell_type": "markdown",
   "metadata": {
    "collapsed": true,
    "jupyter": {
     "outputs_hidden": true
    }
   },
   "source": [
    "The chart indicates that a first baby is less likely to be born until about week 42, after which they are more likely to be born than other babies.\n",
    "\n",
    "## Reporting Results\n",
    "\n",
    "The evidence clearly indicates that first babies tend to arrive later than others."
   ]
  },
  {
   "cell_type": "code",
   "execution_count": null,
   "metadata": {
    "collapsed": true,
    "jupyter": {
     "outputs_hidden": true
    }
   },
   "outputs": [],
   "source": []
  }
 ],
 "metadata": {
  "kernelspec": {
   "display_name": "Python 3 (ipykernel)",
   "language": "python",
   "name": "python3"
  },
  "language_info": {
   "codemirror_mode": {
    "name": "ipython",
    "version": 3
   },
   "file_extension": ".py",
   "mimetype": "text/x-python",
   "name": "python",
   "nbconvert_exporter": "python",
   "pygments_lexer": "ipython3",
   "version": "3.11.1"
  }
 },
 "nbformat": 4,
 "nbformat_minor": 4
}

{
 "cells": [
  {
   "cell_type": "code",
   "execution_count": 5,
   "id": "13dbdc69-ea90-45a7-8265-29eeca964fe8",
   "metadata": {},
   "outputs": [
    {
     "name": "stdout",
     "output_type": "stream",
     "text": [
      "True population variance: 24.833358427157336\n",
      "Mean of sample variances: 24.886879748113394\n"
     ]
    }
   ],
   "source": [
    "import numpy as np\n",
    "\n",
    "# Parameters\n",
    "population_mean = 10\n",
    "population_variance = 25\n",
    "sample_size = 30\n",
    "num_samples = 1000\n",
    "\n",
    "# Generate random data from a normal distribution\n",
    "population = np.random.normal(population_mean, np.sqrt(population_variance), 100000)\n",
    "\n",
    "# Calculate population variance\n",
    "true_population_variance = np.var(population, ddof=0)\n",
    "\n",
    "# Initialize an array to store sample variances\n",
    "sample_variances = np.zeros(num_samples)\n",
    "\n",
    "# Generate samples and calculate sample variances\n",
    "for i in range(num_samples):\n",
    "    sample = np.random.choice(population, size=sample_size, replace=False)\n",
    "    sample_mean = np.mean(sample)\n",
    "    sample_variance = np.sum((sample - sample_mean)**2) / (sample_size - 1)\n",
    "    sample_variances[i] = sample_variance\n",
    "\n",
    "# Calculate the mean of sample variances\n",
    "mean_sample_variance = np.mean(sample_variances)\n",
    "\n",
    "print(\"True population variance:\", true_population_variance)\n",
    "print(\"Mean of sample variances:\", mean_sample_variance)"
   ]
  },
  {
   "cell_type": "code",
   "execution_count": null,
   "id": "5018c0d1-26be-4a66-ac16-5af0b3d0fddb",
   "metadata": {},
   "outputs": [],
   "source": []
  }
 ],
 "metadata": {
  "kernelspec": {
   "display_name": "Python 3 (ipykernel)",
   "language": "python",
   "name": "python3"
  },
  "language_info": {
   "codemirror_mode": {
    "name": "ipython",
    "version": 3
   },
   "file_extension": ".py",
   "mimetype": "text/x-python",
   "name": "python",
   "nbconvert_exporter": "python",
   "pygments_lexer": "ipython3",
   "version": "3.11.1"
  }
 },
 "nbformat": 4,
 "nbformat_minor": 5
}

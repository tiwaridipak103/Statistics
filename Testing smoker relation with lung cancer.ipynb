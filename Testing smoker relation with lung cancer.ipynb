{
 "cells": [
  {
   "cell_type": "raw",
   "id": "1fbfabd4-12a5-4b27-9a00-f414b5693e3c",
   "metadata": {},
   "source": [
    "                    Lung Cancer Diagnosis\n",
    "                | Diagnosed     | Not Diagnosed | Total\n",
    "-------------------------------------------------------\n",
    "Smoker          |     30        |       40       |  70\n",
    "-------------------------------------------------------\n",
    "Non-smoker      |     10        |      120       | 130\n",
    "-------------------------------------------------------\n",
    "Total           |     40        |      160       | 200\n"
   ]
  },
  {
   "cell_type": "raw",
   "id": "57a0598f-fe3f-47d5-97ca-8a986603846c",
   "metadata": {},
   "source": [
    "Now, we'll calculate the expected frequencies for each cell assuming independence:\n",
    "\n",
    "For the cell representing smokers diagnosed with lung cancer:\n",
    "Expected frequency = (row total * column total) / overall total = (70 * 40) / 200 = 14\n",
    "\n",
    "For the cell representing smokers not diagnosed with lung cancer:\n",
    "Expected frequency = (70 * 160) / 200 = 56\n",
    "\n",
    "For the cell representing non-smokers diagnosed with lung cancer:\n",
    "Expected frequency = (130 * 40) / 200 = 26\n",
    "\n",
    "For the cell representing non-smokers not diagnosed with lung cancer:\n",
    "Expected frequency = (130 * 160) / 200 = 104"
   ]
  },
  {
   "cell_type": "code",
   "execution_count": 5,
   "id": "424bc963-40de-4c75-9e2c-967a85b1261f",
   "metadata": {},
   "outputs": [
    {
     "name": "stdout",
     "output_type": "stream",
     "text": [
      "Chi-square statistic: 35.16483516483516\n",
      "Degrees of freedom: 1\n",
      "P-value: 3.029447692703968e-09\n",
      "Expected frequencies:\n",
      " [[ 14.  56.]\n",
      " [ 26. 104.]]\n"
     ]
    }
   ],
   "source": [
    "import numpy as np\n",
    "from scipy.stats import chi2\n",
    "\n",
    "# Example data\n",
    "observed = np.array([[30, 40], [10, 120]])\n",
    "\n",
    "# Calculate expected frequencies\n",
    "row_totals = np.sum(observed, axis=1)\n",
    "col_totals = np.sum(observed, axis=0)\n",
    "total = np.sum(observed)\n",
    "\n",
    "expected = np.outer(row_totals, col_totals) / total\n",
    "\n",
    "# Calculate chi-square statistic\n",
    "chi2_statistic = np.sum((observed - expected)**2 / expected)\n",
    "\n",
    "# Calculate degrees of freedom\n",
    "rows, cols = observed.shape\n",
    "dof = (rows - 1) * (cols - 1)\n",
    "\n",
    "# Calculate p-value\n",
    "p_value = 1 - chi2.cdf(chi2_statistic, dof)\n",
    "\n",
    "print(\"Chi-square statistic:\", chi2_statistic)\n",
    "print(\"Degrees of freedom:\", dof)\n",
    "print(\"P-value:\", p_value)\n",
    "print(\"Expected frequencies:\\n\", expected)"
   ]
  },
  {
   "cell_type": "code",
   "execution_count": 4,
   "id": "abe69183-0da9-48f4-8af3-a791483ca297",
   "metadata": {},
   "outputs": [],
   "source": [
    "# compute a distribution of chi-squared values by sampling\n",
    "def sample_by_cdf(cdf_xs, cdf_ps, n):\n",
    "    \"\"\" Create a sample based on a CDF \"\"\"\n",
    "    samples = []\n",
    "    for i in range(n):\n",
    "        prob = np.random.random()\n",
    "        for j in range(cdf_ps.shape[0]):\n",
    "            if cdf_ps[j] > prob:\n",
    "                break\n",
    "        samples.append(cdf_xs[j])\n",
    "    return samples"
   ]
  },
  {
   "cell_type": "code",
   "execution_count": 14,
   "id": "646c603e-96ef-439c-a9ed-a74fa90b4d4a",
   "metadata": {},
   "outputs": [
    {
     "name": "stdout",
     "output_type": "stream",
     "text": [
      "p-value: 0.001 (stat sig @ 99%)\n"
     ]
    }
   ],
   "source": [
    "pmf_obs = observed / 200\n",
    "cdf_obs_ps = np.cumsum(pmf_obs)\n",
    "cdf_obs_xs = np.array([1, 2, 3, 4])\n",
    "\n",
    "sample_chi2s = np.zeros(1000)\n",
    "\n",
    "\n",
    "for i in range(1000):\n",
    "    sample_obs = sample_by_cdf(cdf_obs_xs, cdf_obs_ps, 1000)\n",
    "    sample_exp = np.random.uniform(low=1, high=4, size=1000)\n",
    "    sample_chi2s[i] = np.sum(np.power(sample_obs - sample_exp, 2) / sample_exp)\n",
    "    \n",
    "# compute the CDF for the chi-squared values distribution\n",
    "pmf_chi2 = np.histogram(sample_chi2s, bins=1000, density=True)\n",
    "cdf_chi2_ps = np.cumsum(pmf_chi2[0])\n",
    "cdf_chi2_ps = cdf_chi2_ps / cdf_chi2_ps[-1]\n",
    "cdf_chi2_xs = pmf_chi2[1][:-1]\n",
    "\n",
    "# compute p-value = prob(seeing a chi-squared value high as that observed)\n",
    "p_value_idx = np.where(cdf_chi2_xs >= chi2_statistic)[0][0]\n",
    "p_value = cdf_chi2_ps[p_value_idx]\n",
    "statsig = \"\"\n",
    "if p_value < 0.01:\n",
    "    statsig = \"stat sig @ 99%\"\n",
    "elif p_value < 0.05:\n",
    "    statsig = \"stat sig @ 95%\"\n",
    "else:\n",
    "    statsig = \"not stat sig\"\n",
    "print(\"p-value: %.3f (%s)\" % (p_value, statsig))"
   ]
  },
  {
   "cell_type": "code",
   "execution_count": 15,
   "id": "9202fc90-c996-4e7d-9228-adfbafadc366",
   "metadata": {},
   "outputs": [],
   "source": [
    "for i in range(1000):\n",
    "    sample_obs = sample_by_cdf(cdf_obs_xs, cdf_obs_ps, 1000)\n",
    "    sample_exp = np.random.uniform(low=1, high=4, size=1000)\n",
    "    sample_chi2s[i] = np.sum(np.power(sample_obs - sample_exp, 2) / sample_exp)\n",
    "    break"
   ]
  },
  {
   "cell_type": "code",
   "execution_count": 19,
   "id": "749c54a2-ada8-42b1-abbb-41792479d0cd",
   "metadata": {},
   "outputs": [
    {
     "data": {
      "text/plain": [
       "3.9991863902081537"
      ]
     },
     "execution_count": 19,
     "metadata": {},
     "output_type": "execute_result"
    }
   ],
   "source": [
    "max(sample_exp)"
   ]
  },
  {
   "cell_type": "code",
   "execution_count": null,
   "id": "b3c42e4d-927f-4726-8df1-9afce4e10285",
   "metadata": {},
   "outputs": [],
   "source": []
  }
 ],
 "metadata": {
  "kernelspec": {
   "display_name": "Python 3 (ipykernel)",
   "language": "python",
   "name": "python3"
  },
  "language_info": {
   "codemirror_mode": {
    "name": "ipython",
    "version": 3
   },
   "file_extension": ".py",
   "mimetype": "text/x-python",
   "name": "python",
   "nbconvert_exporter": "python",
   "pygments_lexer": "ipython3",
   "version": "3.11.1"
  }
 },
 "nbformat": 4,
 "nbformat_minor": 5
}
